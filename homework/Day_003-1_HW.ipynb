{
 "cells": [
  {
   "cell_type": "markdown",
   "metadata": {},
   "source": [
    "## Warm Up Exercise"
   ]
  },
  {
   "cell_type": "markdown",
   "metadata": {},
   "source": [
    "#### Create a dataframe which has two column, Country and Population"
   ]
  },
  {
   "cell_type": "code",
   "execution_count": 1,
   "metadata": {},
   "outputs": [],
   "source": [
    "import pandas as pd\n",
    "import numpy as np"
   ]
  },
  {
   "cell_type": "code",
   "execution_count": 7,
   "metadata": {},
   "outputs": [
    {
     "name": "stdout",
     "output_type": "stream",
     "text": [
      "            Country  Population\n",
      "0  United of States   300000000\n",
      "1    United Kingdom   200000000\n",
      "2            Brazil   600000000\n"
     ]
    }
   ],
   "source": [
    "data = pd.DataFrame({'Country': ['United of States', 'United Kingdom', 'Brazil'],\n",
    "        'Population': [300000000, 200000000, 600000000]})\n",
    "print(data)"
   ]
  },
  {
   "cell_type": "code",
   "execution_count": 8,
   "metadata": {},
   "outputs": [
    {
     "name": "stdout",
     "output_type": "stream",
     "text": [
      "            Country  Population\n",
      "0  United of States   300000000\n",
      "1    United Kingdom   200000000\n",
      "2            Brazil   600000000\n"
     ]
    }
   ],
   "source": [
    "## Another method\n",
    "d = {'Country': ['United of States', 'United Kingdom', 'Brazil'],\n",
    "        'Population': [300000000, 200000000, 600000000]}\n",
    "df = pd.DataFrame(data = d)\n",
    "print(df)"
   ]
  },
  {
   "cell_type": "markdown",
   "metadata": {},
   "source": [
    "#### Find out country has the most population"
   ]
  },
  {
   "cell_type": "code",
   "execution_count": 11,
   "metadata": {},
   "outputs": [
    {
     "name": "stdout",
     "output_type": "stream",
     "text": [
      "Country          Brazil\n",
      "Population    600000000\n",
      "Name: 2, dtype: object\n"
     ]
    }
   ],
   "source": [
    "maxi_pop = df.loc[df['Population'].idxmax()]\n",
    "print(maxi_pop)"
   ]
  }
 ],
 "metadata": {
  "kernelspec": {
   "display_name": "Python 3",
   "language": "python",
   "name": "python3"
  },
  "language_info": {
   "codemirror_mode": {
    "name": "ipython",
    "version": 3
   },
   "file_extension": ".py",
   "mimetype": "text/x-python",
   "name": "python",
   "nbconvert_exporter": "python",
   "pygments_lexer": "ipython3",
   "version": "3.6.5"
  }
 },
 "nbformat": 4,
 "nbformat_minor": 2
}
