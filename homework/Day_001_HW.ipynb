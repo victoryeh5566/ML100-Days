{
 "cells": [
  {
   "cell_type": "markdown",
   "metadata": {},
   "source": [
    "## Part 1"
   ]
  },
  {
   "cell_type": "markdown",
   "metadata": {},
   "source": [
    "# Elo Merchant Category Recommendation Contest\n",
    "https://www.kaggle.com/c/elo-merchant-category-recommendation"
   ]
  },
  {
   "cell_type": "markdown",
   "metadata": {},
   "source": [
    "### Why It Is Important?"
   ]
  },
  {
   "cell_type": "markdown",
   "metadata": {},
   "source": [
    "Nowadays, the majority of guests are self-sufficient, tech-savvy travelers who are comfortable using the app, website service and IoT things. Imagine you are super hungry and hang out in an unfamiliar city and getting restaurant recommendations served up, based on your personal preferences and behaviors, at just the right moment. The recommendation comes with an awesome coupon from your credit card provider for a local place around the corner! The efforts will improve customers' experience and help companies to reduce the bad campaigns, to create the right experience for leads."
   ]
  },
  {
   "cell_type": "markdown",
   "metadata": {},
   "source": [
    "### Where Do Data Come From?"
   ]
  },
  {
   "cell_type": "markdown",
   "metadata": {},
   "source": [
    "The transaction and merchandise datasets were provided by Elo, one of the largest payment system company in Brazil. Elo has built collaboration with merchants and companies in order to offer irresistible coupons, promo and discounts."
   ]
  },
  {
   "cell_type": "markdown",
   "metadata": {},
   "source": [
    "### What Are They?"
   ]
  },
  {
   "cell_type": "markdown",
   "metadata": {},
   "source": [
    "The historical_transactions.csv and new_merchant_transactions.csv files contain information about each card's transactions, train.csv and test.csv contain card's id and information of cards, the merchants.csv contain the additional information for all merchants.<br>\n",
    "\n",
    "+ Structured Data: merchant_id, merchant_group_id, merchant_category_id, subsector_id, card_id and many more.\n",
    "+ Unstructured Data: N/A"
   ]
  },
  {
   "cell_type": "markdown",
   "metadata": {},
   "source": [
    "### What Is the Goal?"
   ]
  },
  {
   "cell_type": "markdown",
   "metadata": {},
   "source": [
    "The goal of the project is to develop algorithms to identify the most relevant opportunities to individuals, by uncovering signal in customer loyalty.<br>\n",
    "+ Recommendation engine: Cosine Similarity\n",
    "+ Regression: MAE, MSE\n",
    "+ CLV model: average transaction value\n",
    "+ Apriori merchants: support, confidence, lift, frequent set"
   ]
  },
  {
   "cell_type": "markdown",
   "metadata": {},
   "source": [
    "## Part 2"
   ]
  },
  {
   "cell_type": "markdown",
   "metadata": {},
   "source": [
    ">__Imagine you are a chauffeur company, you want to use data analytics/data science to improve operation performance. Please describe your strategies and possible solutions.__"
   ]
  },
  {
   "cell_type": "markdown",
   "metadata": {},
   "source": [
    "### Why It Is Important?"
   ]
  },
  {
   "cell_type": "markdown",
   "metadata": {},
   "source": [
    "While the yellow taxi cab has been integrated into many countries, there now exist an extension of the traditional taxi. This new extension is called ridesharing, which are applications in which it becomes easier and more convenient to get rides in an untraditional manner. Nowadays, companies leverage data techniques to change the way we move, create a new business model in the transportation industry, interpret the customer patterns with data science and to determine where the company should offer or focus on Service."
   ]
  },
  {
   "cell_type": "markdown",
   "metadata": {},
   "source": [
    "### Where Do Data Come From?"
   ]
  },
  {
   "cell_type": "markdown",
   "metadata": {},
   "source": [
    "+ Data wrehouse which collects massive passenger and rider data.\n",
    "+ Real-time local transportation data and traffic data."
   ]
  },
  {
   "cell_type": "markdown",
   "metadata": {},
   "source": [
    "### What Are They?"
   ]
  },
  {
   "cell_type": "markdown",
   "metadata": {},
   "source": [
    "+ Structured Data: eyeballs, requests, complete trip, completion rate, peak hours, ETA/wait time, Idel time...etc.\n",
    "+ Unstructured Data: route map, comment"
   ]
  },
  {
   "cell_type": "markdown",
   "metadata": {},
   "source": [
    "### What Is the Goal?"
   ]
  },
  {
   "cell_type": "markdown",
   "metadata": {},
   "source": [
    "Get more rides and revenue:\n",
    "+ Demand forecasting: Time series analysis\n",
    "+ Predicted demand: Poisson distribution\n",
    "+ Logistic regression: ROC, AUC, specificity and sensitivity"
   ]
  },
  {
   "cell_type": "markdown",
   "metadata": {},
   "source": [
    "## Part 3"
   ]
  },
  {
   "cell_type": "markdown",
   "metadata": {},
   "source": [
    "### Warm up exercise!\n",
    "#### Write a query to calculate Mean Square Error!\n",
    "$ MSE = \\frac{1}{n}\\sum_{i=1}^{n}{(Y_i - \\hat{Y}_i)^2} $"
   ]
  },
  {
   "cell_type": "code",
   "execution_count": 52,
   "metadata": {},
   "outputs": [],
   "source": [
    "import numpy as np\n",
    "import matplotlib.pyplot as plt\n",
    "import math"
   ]
  },
  {
   "cell_type": "code",
   "execution_count": 71,
   "metadata": {},
   "outputs": [],
   "source": [
    "def mean_square_error(y, y_hat):\n",
    "    \"\"\"\n",
    "    calculate MSE\n",
    "        - y: Actual value\n",
    "        - y_hat: Predicted value\n",
    "    \"\"\"\n",
    "    mse = sum((y - y_hat) ** 2) / len(y)\n",
    "    return mse"
   ]
  },
  {
   "cell_type": "code",
   "execution_count": 72,
   "metadata": {},
   "outputs": [
    {
     "data": {
      "image/png": "[encoded data removed]",
      "text/plain": [
       "<Figure size 432x288 with 1 Axes>"
      ]
     },
     "metadata": {},
     "output_type": "display_data"
    }
   ],
   "source": [
    "## Visualization y and y_hat\n",
    "\n",
    "w = 3\n",
    "b = 0.5\n",
    "\n",
    "x_lin = np.linspace(0, 100, 101)\n",
    "y = (x_lin + np.random.randn(101) * 5) * w + b\n",
    "\n",
    "plt.plot(x_lin, y, 'b.', label = 'data points')\n",
    "plt.title(\"Assume we have  data points\")\n",
    "plt.legend(loc = 2)\n",
    "plt.show()"
   ]
  },
  {
   "cell_type": "code",
   "execution_count": 73,
   "metadata": {
    "scrolled": true
   },
   "outputs": [
    {
     "data": {
      "image/png": "[encoded data removed]",
      "text/plain": [
       "<Figure size 432x288 with 1 Axes>"
      ]
     },
     "metadata": {},
     "output_type": "display_data"
    }
   ],
   "source": [
    "y_hat = x_lin * w + b\n",
    "plt.plot(x_lin, y, 'b.', label = 'data')\n",
    "plt.plot(x_lin, y_hat, 'r-', label = 'prediction')\n",
    "plt.title(\"Assume we have data points (And the prediction)\")\n",
    "plt.legend(loc = 2)\n",
    "plt.show()"
   ]
  },
  {
   "cell_type": "code",
   "execution_count": 78,
   "metadata": {},
   "outputs": [
    {
     "name": "stdout",
     "output_type": "stream",
     "text": [
      "The Mean Square Error is 167.929\n"
     ]
    }
   ],
   "source": [
    "## Execute mean_square_error Function\n",
    "MSE = mean_square_error(y, y_hat)\n",
    "print(\"The Mean Square Error is %.3f\" % (MSE))"
   ]
  },
  {
   "cell_type": "markdown",
   "metadata": {},
   "source": [
    "#### Another Method\n",
    "Use Skit-Learn package"
   ]
  },
  {
   "cell_type": "code",
   "execution_count": 80,
   "metadata": {},
   "outputs": [],
   "source": [
    "import sklearn\n",
    "from sklearn.metrics import mean_squared_error "
   ]
  },
  {
   "cell_type": "code",
   "execution_count": 81,
   "metadata": {},
   "outputs": [
    {
     "name": "stdout",
     "output_type": "stream",
     "text": [
      "167.92895018039576\n"
     ]
    }
   ],
   "source": [
    "print(mean_squared_error(y, y_hat))"
   ]
  }
 ],
 "metadata": {
  "kernelspec": {
   "display_name": "Python 3",
   "language": "python",
   "name": "python3"
  },
  "language_info": {
   "codemirror_mode": {
    "name": "ipython",
    "version": 3
   },
   "file_extension": ".py",
   "mimetype": "text/x-python",
   "name": "python",
   "nbconvert_exporter": "python",
   "pygments_lexer": "ipython3",
   "version": "3.6.5"
  }
 },
 "nbformat": 4,
 "nbformat_minor": 2
}
